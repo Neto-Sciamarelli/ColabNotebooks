{
  "nbformat": 4,
  "nbformat_minor": 0,
  "metadata": {
    "kernelspec": {
      "display_name": "Python 3",
      "language": "python",
      "name": "python3"
    },
    "language_info": {
      "codemirror_mode": {
        "name": "ipython",
        "version": 3
      },
      "file_extension": ".py",
      "mimetype": "text/x-python",
      "name": "python",
      "nbconvert_exporter": "python",
      "pygments_lexer": "ipython3",
      "version": "3.7.4"
    },
    "colab": {
      "provenance": [],
      "include_colab_link": true
    }
  },
  "cells": [
    {
      "cell_type": "markdown",
      "metadata": {
        "id": "view-in-github",
        "colab_type": "text"
      },
      "source": [
        "<a href=\"https://colab.research.google.com/github/Neto-Sciamarelli/ColabNotebooks/blob/main/A1_Rule_Based_Programming.ipynb\" target=\"_parent\"><img src=\"https://colab.research.google.com/assets/colab-badge.svg\" alt=\"Open In Colab\"/></a>"
      ]
    },
    {
      "cell_type": "markdown",
      "metadata": {
        "id": "40b90843"
      },
      "source": [
        "<img src=\"http://meusite.mackenzie.br/rogerio/mackenzie_logo/UPM.2_horizontal_vermelho.jpg\"  width=300, align=\"right\">\n",
        "<br>\n",
        "<br>\n",
        "<br>\n",
        "<br>\n",
        "<br>\n",
        "\n",
        "# **Expert Systems, Rule‑Based Programming `PyKnown`**\n",
        "---\n"
      ]
    },
    {
      "cell_type": "code",
      "metadata": {
        "id": "rYx9D4GZA5o9",
        "cellView": "form"
      },
      "source": [
        "#@title **Identificação do Grupo**\n",
        "\n",
        "# @markdown Integrantes do Grupo, nome completo em orgem alfabética (*informe \\<RA\\>,\\<nome\\>*)\n",
        "Aluno1 = '10409160, Antonio Carlos Sciamarelli Neto' #@param {type:\"string\"}\n",
        "\n",
        "\n"
      ],
      "execution_count": 1,
      "outputs": []
    },
    {
      "cell_type": "markdown",
      "source": [
        "# **Resumo**\n",
        "\n",
        "*Nesse trabalha será utilizado do conceito de Rule Based Programming para criar cerca de 16 regras originais (simples e compostas), nesse caso sobre a Universidade Presbiteriana Mackenzie, e analisar seus resultados*."
      ],
      "metadata": {
        "id": "JlCIc2YooBW7"
      }
    },
    {
      "cell_type": "markdown",
      "source": [
        "# **Implementação**\n",
        "\n",
        "*Aqui o código da sua solução. Você deve explicar em linhas gerais o código. Para isso você pode quebrar o código em algumas partes e incluir células de texto explicativos. Não empregue para isso comentários no corpo do código, mas crie células de texto do notebook.*\n",
        "\n",
        "> ***ATENÇÃO: O código deve ser 100% executável no Colab e, portanto, não devem ser empregados arquivos locais (da sua máquina) e, se necessário, devem ser incluídos o install de novas bibliotecas empregadas.***\n",
        "\n"
      ],
      "metadata": {
        "id": "FyFHbT8vygVp"
      }
    },
    {
      "cell_type": "code",
      "source": [
        "cursos = [\n",
        "    {\n",
        "        \"nome\": \"Ciência da Computação\",\n",
        "        \"area\": \"Exatas\",\n",
        "        \"tipo\": \"Bacharelado\",\n",
        "        \"modalidade\": \"Presencial\",\n",
        "        \"programacao\": True,\n",
        "        \"duracao\": 8,\n",
        "    },\n",
        "    {\n",
        "        \"nome\": \"Engenharia Civil\",\n",
        "        \"area\": \"Exatas\",\n",
        "        \"tipo\": \"Bacharelado\",\n",
        "        \"modalidade\": \"Presencial\",\n",
        "        \"programacao\": False,\n",
        "        \"duracao\": 10,\n",
        "    },\n",
        "    {\n",
        "        \"nome\": \"Psicologia\",\n",
        "        \"area\": \"Humanas\",\n",
        "        \"tipo\": \"Bacharelado\",\n",
        "        \"modalidade\": \"Presencial\",\n",
        "        \"programacao\": False,\n",
        "        \"duracao\": 10,\n",
        "    },\n",
        "    {\n",
        "        \"nome\": \"Análise e Desenvolvimento de Sistemas\",\n",
        "        \"area\": \"Exatas\",\n",
        "        \"tipo\": \"Tecnológico\",\n",
        "        \"modalidade\": \"EAD\",\n",
        "        \"programacao\": True,\n",
        "        \"duracao\": 4,\n",
        "    },\n",
        "    {\n",
        "        \"nome\": \"Biomedicina\",\n",
        "        \"area\": \"Biológicas\",\n",
        "        \"tipo\": \"Bacharelado\",\n",
        "        \"modalidade\": \"Presencial\",\n",
        "        \"programacao\": False,\n",
        "        \"duracao\": 8,\n",
        "    },\n",
        "    {\n",
        "        \"nome\": \"Pedagogia\",\n",
        "        \"area\": \"Humanas\",\n",
        "        \"tipo\": \"Licenciatura\",\n",
        "        \"modalidade\": \"EAD\",\n",
        "        \"programacao\": False,\n",
        "        \"duracao\": 8,\n",
        "    },\n",
        "]"
      ],
      "metadata": {
        "id": "47WSkdIDxpjM"
      },
      "execution_count": 3,
      "outputs": []
    },
    {
      "cell_type": "markdown",
      "source": [
        "*Lista com cursos do Mackenzie, contendo informação como nome do curso, área, tipo, modalidade, se o curso é sobre programação ou não e a duração em semestres*."
      ],
      "metadata": {
        "id": "Vq133y-jDvnR"
      }
    },
    {
      "cell_type": "code",
      "source": [
        "def aplicar_regras(curso):\n",
        "    regras = []\n",
        "\n",
        "    # Regras simples\n",
        "    if curso[\"area\"] == \"Exatas\":\n",
        "        regras.append(\"Curso de Exatas\")\n",
        "    if curso[\"area\"] == \"Humanas\":\n",
        "        regras.append(\"Curso de Humanas\")\n",
        "    if curso[\"area\"] == \"Biológicas\":\n",
        "        regras.append(\"Curso da área da saúde\")\n",
        "\n",
        "    if curso[\"tipo\"] == \"Tecnológico\":\n",
        "        regras.append(\"Curso tecnológico, voltado ao mercado\")\n",
        "    if curso[\"tipo\"] == \"Licenciatura\":\n",
        "        regras.append(\"Curso voltado à formação de professores\")\n",
        "\n",
        "    if curso[\"modalidade\"] == \"EAD\":\n",
        "        regras.append(\"Curso a distância\")\n",
        "    if curso[\"modalidade\"] == \"Presencial\":\n",
        "        regras.append(\"Curso presencial\")\n",
        "\n",
        "    if curso[\"programacao\"]:\n",
        "        regras.append(\"Curso com foco em programação\")\n",
        "\n",
        "    if curso[\"duracao\"] > 8:\n",
        "        regras.append(\"Curso de longa duração\")\n",
        "    elif curso[\"duracao\"] <= 4:\n",
        "        regras.append(\"Curso de curta duração\")\n",
        "    else:\n",
        "        regras.append(\"Curso de duração média\")\n",
        "\n",
        "    # Regras compostas\n",
        "    if curso[\"programacao\"] and curso[\"tipo\"] == \"Tecnológico\":\n",
        "        regras.append(\"Ideal para entrada rápida no mercado de TI\")\n",
        "\n",
        "    if curso[\"area\"] == \"Humanas\" and curso[\"tipo\"] == \"Licenciatura\":\n",
        "        regras.append(\"Voltado à educação básica\")\n",
        "\n",
        "    if curso[\"area\"] == \"Biológicas\" and curso[\"duracao\"] >= 8:\n",
        "        regras.append(\"Curso da área da saúde com formação aprofundada\")\n",
        "\n",
        "    if curso[\"programacao\"] and curso[\"duracao\"] > 6:\n",
        "        regras.append(\"Curso que exige dedicação em programação por vários anos\")\n",
        "\n",
        "    if curso[\"modalidade\"] == \"EAD\" and curso[\"duracao\"] >= 8:\n",
        "        regras.append(\"Curso EAD de longa duração, exige autogestão\")\n",
        "\n",
        "    if curso[\"tipo\"] == \"Bacharelado\" and curso[\"area\"] == \"Exatas\":\n",
        "        regras.append(\"Curso clássico da área tecnológica\")\n",
        "\n",
        "    return regras"
      ],
      "metadata": {
        "id": "OByddCYYEBgH"
      },
      "execution_count": 4,
      "outputs": []
    },
    {
      "cell_type": "markdown",
      "source": [
        "*Função contendo as 16 regras simples e compostas sobre os cursos criados anteriormente*."
      ],
      "metadata": {
        "id": "vFo0YeBuEHNx"
      }
    },
    {
      "cell_type": "markdown",
      "source": [
        "# **Resultados (Testes)**\n",
        "\n",
        "*Um ou mais testes da solução devem ser apresentados ao final. Comente em células de texto explicativas os testes e os seus resultados.*"
      ],
      "metadata": {
        "id": "vO9xbwBTJDQ7"
      }
    },
    {
      "cell_type": "code",
      "source": [
        "for curso in cursos:\n",
        "  print(f\"\\nCurso: {curso['nome']}\")\n",
        "  regras = aplicar_regras(curso)\n",
        "  for r in regras:\n",
        "    print(f\"- {r}\")\n"
      ],
      "metadata": {
        "id": "mVf_l2YTJPXY",
        "colab": {
          "base_uri": "https://localhost:8080/"
        },
        "outputId": "96274af4-4400-4ff5-a1f0-8228c8a0f2c8"
      },
      "execution_count": 5,
      "outputs": [
        {
          "output_type": "stream",
          "name": "stdout",
          "text": [
            "\n",
            "Curso: Ciência da Computação\n",
            "- Curso de Exatas\n",
            "- Curso presencial\n",
            "- Curso com foco em programação\n",
            "- Curso de duração média\n",
            "- Curso que exige dedicação em programação por vários anos\n",
            "- Curso clássico da área tecnológica\n",
            "\n",
            "Curso: Engenharia Civil\n",
            "- Curso de Exatas\n",
            "- Curso presencial\n",
            "- Curso de longa duração\n",
            "- Curso clássico da área tecnológica\n",
            "\n",
            "Curso: Psicologia\n",
            "- Curso de Humanas\n",
            "- Curso presencial\n",
            "- Curso de longa duração\n",
            "\n",
            "Curso: Análise e Desenvolvimento de Sistemas\n",
            "- Curso de Exatas\n",
            "- Curso tecnológico, voltado ao mercado\n",
            "- Curso a distância\n",
            "- Curso com foco em programação\n",
            "- Curso de curta duração\n",
            "- Ideal para entrada rápida no mercado de TI\n",
            "\n",
            "Curso: Biomedicina\n",
            "- Curso da área da saúde\n",
            "- Curso presencial\n",
            "- Curso de duração média\n",
            "- Curso da área da saúde com formação aprofundada\n",
            "\n",
            "Curso: Pedagogia\n",
            "- Curso de Humanas\n",
            "- Curso voltado à formação de professores\n",
            "- Curso a distância\n",
            "- Curso de duração média\n",
            "- Voltado à educação básica\n",
            "- Curso EAD de longa duração, exige autogestão\n"
          ]
        }
      ]
    },
    {
      "cell_type": "markdown",
      "source": [
        "*Mostrando resultado das regras criados, exibindo as conclusões como duração do curso (duração média, curta e longa), qual área o curso é voltado, e outras sugestões baseadas nas informações do curso*."
      ],
      "metadata": {
        "id": "Kf9DJlO2FJ7o"
      }
    },
    {
      "cell_type": "markdown",
      "source": [
        "# **Referências**\n",
        "\n",
        "Este é um item obrigatório. Inclua aqui o as referências, fontes, ou bibliografia e sites/bibliotecas empregadas em formato ABNT."
      ],
      "metadata": {
        "id": "7LtXrRFr4hg3"
      }
    },
    {
      "cell_type": "markdown",
      "metadata": {
        "id": "8crUBC3IQ3U_"
      },
      "source": [
        "---"
      ]
    },
    {
      "cell_type": "code",
      "metadata": {
        "id": "BluFtfHuCGzm",
        "cellView": "form"
      },
      "source": [
        "#@title **Avaliação**\n",
        "Resumo = 10 #@param {type:\"slider\", min:0, max:10, step:1}\n",
        "\n",
        "Implementacao = 9 #@param {type:\"slider\", min:0, max:10, step:1}\n",
        "\n",
        "Resultados = 6 #@param {type:\"slider\", min:0, max:10, step:1}\n",
        "\n",
        "Referencias = 7 #@param {type:\"slider\", min:0, max:10, step:1}\n",
        "\n",
        "Geral = 7 #@param {type:\"slider\", min:0, max:10, step:1}\n",
        "\n",
        "\n",
        "\n",
        "\n",
        "\n",
        "\n"
      ],
      "execution_count": 7,
      "outputs": []
    },
    {
      "cell_type": "code",
      "metadata": {
        "colab": {
          "base_uri": "https://localhost:8080/",
          "height": 124
        },
        "id": "2Gqw7hUZHyle",
        "cellView": "form",
        "outputId": "570402ea-2f6b-4e48-ef35-a3e78fb181a8"
      },
      "source": [
        "#@title **Nota Final**\n",
        "nota = Resumo + Implementacao + Resultados + Referencias + Geral\n",
        "\n",
        "nota = nota / 5\n",
        "\n",
        "print(f'Nota final do trabalho {nota :.1f}')\n",
        "\n",
        "import numpy as np\n",
        "import pandas as pd\n",
        "\n",
        "alunos = pd.DataFrame()\n",
        "\n",
        "lista_tia = []\n",
        "lista_nome = []\n",
        "\n",
        "\n",
        "exec(\"if Aluno\" + str(1) + \" !='None':  lista = Aluno\" + str(1) + \".split(','); lista_tia.append(lista[0]); lista_nome.append(lista[1].upper())\")\n",
        "\n",
        "alunos['tia'] = lista_tia\n",
        "alunos['nome'] = lista_nome\n",
        "alunos['nota'] = np.round(nota,1)\n",
        "print()\n",
        "display(alunos)"
      ],
      "execution_count": 8,
      "outputs": [
        {
          "output_type": "stream",
          "name": "stdout",
          "text": [
            "Nota final do trabalho 7.8\n",
            "\n"
          ]
        },
        {
          "output_type": "display_data",
          "data": {
            "text/plain": [
              "        tia                              nome  nota\n",
              "0  10409160   ANTONIO CARLOS SCIAMARELLI NETO   7.8"
            ],
            "text/html": [
              "\n",
              "  <div id=\"df-0836a4d3-5d28-4a16-8db7-b8153ba2f74a\" class=\"colab-df-container\">\n",
              "    <div>\n",
              "<style scoped>\n",
              "    .dataframe tbody tr th:only-of-type {\n",
              "        vertical-align: middle;\n",
              "    }\n",
              "\n",
              "    .dataframe tbody tr th {\n",
              "        vertical-align: top;\n",
              "    }\n",
              "\n",
              "    .dataframe thead th {\n",
              "        text-align: right;\n",
              "    }\n",
              "</style>\n",
              "<table border=\"1\" class=\"dataframe\">\n",
              "  <thead>\n",
              "    <tr style=\"text-align: right;\">\n",
              "      <th></th>\n",
              "      <th>tia</th>\n",
              "      <th>nome</th>\n",
              "      <th>nota</th>\n",
              "    </tr>\n",
              "  </thead>\n",
              "  <tbody>\n",
              "    <tr>\n",
              "      <th>0</th>\n",
              "      <td>10409160</td>\n",
              "      <td>ANTONIO CARLOS SCIAMARELLI NETO</td>\n",
              "      <td>7.8</td>\n",
              "    </tr>\n",
              "  </tbody>\n",
              "</table>\n",
              "</div>\n",
              "    <div class=\"colab-df-buttons\">\n",
              "\n",
              "  <div class=\"colab-df-container\">\n",
              "    <button class=\"colab-df-convert\" onclick=\"convertToInteractive('df-0836a4d3-5d28-4a16-8db7-b8153ba2f74a')\"\n",
              "            title=\"Convert this dataframe to an interactive table.\"\n",
              "            style=\"display:none;\">\n",
              "\n",
              "  <svg xmlns=\"http://www.w3.org/2000/svg\" height=\"24px\" viewBox=\"0 -960 960 960\">\n",
              "    <path d=\"M120-120v-720h720v720H120Zm60-500h600v-160H180v160Zm220 220h160v-160H400v160Zm0 220h160v-160H400v160ZM180-400h160v-160H180v160Zm440 0h160v-160H620v160ZM180-180h160v-160H180v160Zm440 0h160v-160H620v160Z\"/>\n",
              "  </svg>\n",
              "    </button>\n",
              "\n",
              "  <style>\n",
              "    .colab-df-container {\n",
              "      display:flex;\n",
              "      gap: 12px;\n",
              "    }\n",
              "\n",
              "    .colab-df-convert {\n",
              "      background-color: #E8F0FE;\n",
              "      border: none;\n",
              "      border-radius: 50%;\n",
              "      cursor: pointer;\n",
              "      display: none;\n",
              "      fill: #1967D2;\n",
              "      height: 32px;\n",
              "      padding: 0 0 0 0;\n",
              "      width: 32px;\n",
              "    }\n",
              "\n",
              "    .colab-df-convert:hover {\n",
              "      background-color: #E2EBFA;\n",
              "      box-shadow: 0px 1px 2px rgba(60, 64, 67, 0.3), 0px 1px 3px 1px rgba(60, 64, 67, 0.15);\n",
              "      fill: #174EA6;\n",
              "    }\n",
              "\n",
              "    .colab-df-buttons div {\n",
              "      margin-bottom: 4px;\n",
              "    }\n",
              "\n",
              "    [theme=dark] .colab-df-convert {\n",
              "      background-color: #3B4455;\n",
              "      fill: #D2E3FC;\n",
              "    }\n",
              "\n",
              "    [theme=dark] .colab-df-convert:hover {\n",
              "      background-color: #434B5C;\n",
              "      box-shadow: 0px 1px 3px 1px rgba(0, 0, 0, 0.15);\n",
              "      filter: drop-shadow(0px 1px 2px rgba(0, 0, 0, 0.3));\n",
              "      fill: #FFFFFF;\n",
              "    }\n",
              "  </style>\n",
              "\n",
              "    <script>\n",
              "      const buttonEl =\n",
              "        document.querySelector('#df-0836a4d3-5d28-4a16-8db7-b8153ba2f74a button.colab-df-convert');\n",
              "      buttonEl.style.display =\n",
              "        google.colab.kernel.accessAllowed ? 'block' : 'none';\n",
              "\n",
              "      async function convertToInteractive(key) {\n",
              "        const element = document.querySelector('#df-0836a4d3-5d28-4a16-8db7-b8153ba2f74a');\n",
              "        const dataTable =\n",
              "          await google.colab.kernel.invokeFunction('convertToInteractive',\n",
              "                                                    [key], {});\n",
              "        if (!dataTable) return;\n",
              "\n",
              "        const docLinkHtml = 'Like what you see? Visit the ' +\n",
              "          '<a target=\"_blank\" href=https://colab.research.google.com/notebooks/data_table.ipynb>data table notebook</a>'\n",
              "          + ' to learn more about interactive tables.';\n",
              "        element.innerHTML = '';\n",
              "        dataTable['output_type'] = 'display_data';\n",
              "        await google.colab.output.renderOutput(dataTable, element);\n",
              "        const docLink = document.createElement('div');\n",
              "        docLink.innerHTML = docLinkHtml;\n",
              "        element.appendChild(docLink);\n",
              "      }\n",
              "    </script>\n",
              "  </div>\n",
              "\n",
              "\n",
              "  <div id=\"id_64d1829c-ecb3-43ab-956e-44a4e1e8e94d\">\n",
              "    <style>\n",
              "      .colab-df-generate {\n",
              "        background-color: #E8F0FE;\n",
              "        border: none;\n",
              "        border-radius: 50%;\n",
              "        cursor: pointer;\n",
              "        display: none;\n",
              "        fill: #1967D2;\n",
              "        height: 32px;\n",
              "        padding: 0 0 0 0;\n",
              "        width: 32px;\n",
              "      }\n",
              "\n",
              "      .colab-df-generate:hover {\n",
              "        background-color: #E2EBFA;\n",
              "        box-shadow: 0px 1px 2px rgba(60, 64, 67, 0.3), 0px 1px 3px 1px rgba(60, 64, 67, 0.15);\n",
              "        fill: #174EA6;\n",
              "      }\n",
              "\n",
              "      [theme=dark] .colab-df-generate {\n",
              "        background-color: #3B4455;\n",
              "        fill: #D2E3FC;\n",
              "      }\n",
              "\n",
              "      [theme=dark] .colab-df-generate:hover {\n",
              "        background-color: #434B5C;\n",
              "        box-shadow: 0px 1px 3px 1px rgba(0, 0, 0, 0.15);\n",
              "        filter: drop-shadow(0px 1px 2px rgba(0, 0, 0, 0.3));\n",
              "        fill: #FFFFFF;\n",
              "      }\n",
              "    </style>\n",
              "    <button class=\"colab-df-generate\" onclick=\"generateWithVariable('alunos')\"\n",
              "            title=\"Generate code using this dataframe.\"\n",
              "            style=\"display:none;\">\n",
              "\n",
              "  <svg xmlns=\"http://www.w3.org/2000/svg\" height=\"24px\"viewBox=\"0 0 24 24\"\n",
              "       width=\"24px\">\n",
              "    <path d=\"M7,19H8.4L18.45,9,17,7.55,7,17.6ZM5,21V16.75L18.45,3.32a2,2,0,0,1,2.83,0l1.4,1.43a1.91,1.91,0,0,1,.58,1.4,1.91,1.91,0,0,1-.58,1.4L9.25,21ZM18.45,9,17,7.55Zm-12,3A5.31,5.31,0,0,0,4.9,8.1,5.31,5.31,0,0,0,1,6.5,5.31,5.31,0,0,0,4.9,4.9,5.31,5.31,0,0,0,6.5,1,5.31,5.31,0,0,0,8.1,4.9,5.31,5.31,0,0,0,12,6.5,5.46,5.46,0,0,0,6.5,12Z\"/>\n",
              "  </svg>\n",
              "    </button>\n",
              "    <script>\n",
              "      (() => {\n",
              "      const buttonEl =\n",
              "        document.querySelector('#id_64d1829c-ecb3-43ab-956e-44a4e1e8e94d button.colab-df-generate');\n",
              "      buttonEl.style.display =\n",
              "        google.colab.kernel.accessAllowed ? 'block' : 'none';\n",
              "\n",
              "      buttonEl.onclick = () => {\n",
              "        google.colab.notebook.generateWithVariable('alunos');\n",
              "      }\n",
              "      })();\n",
              "    </script>\n",
              "  </div>\n",
              "\n",
              "    </div>\n",
              "  </div>\n"
            ],
            "application/vnd.google.colaboratory.intrinsic+json": {
              "type": "dataframe",
              "variable_name": "alunos",
              "summary": "{\n  \"name\": \"alunos\",\n  \"rows\": 1,\n  \"fields\": [\n    {\n      \"column\": \"tia\",\n      \"properties\": {\n        \"dtype\": \"string\",\n        \"num_unique_values\": 1,\n        \"samples\": [\n          \"10409160\"\n        ],\n        \"semantic_type\": \"\",\n        \"description\": \"\"\n      }\n    },\n    {\n      \"column\": \"nome\",\n      \"properties\": {\n        \"dtype\": \"string\",\n        \"num_unique_values\": 1,\n        \"samples\": [\n          \" ANTONIO CARLOS SCIAMARELLI NETO\"\n        ],\n        \"semantic_type\": \"\",\n        \"description\": \"\"\n      }\n    },\n    {\n      \"column\": \"nota\",\n      \"properties\": {\n        \"dtype\": \"number\",\n        \"std\": null,\n        \"min\": 7.8,\n        \"max\": 7.8,\n        \"num_unique_values\": 1,\n        \"samples\": [\n          7.8\n        ],\n        \"semantic_type\": \"\",\n        \"description\": \"\"\n      }\n    }\n  ]\n}"
            }
          },
          "metadata": {}
        }
      ]
    }
  ]
}